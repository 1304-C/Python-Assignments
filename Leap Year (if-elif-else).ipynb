{
 "cells": [
  {
   "cell_type": "code",
   "execution_count": 3,
   "id": "e1f277de",
   "metadata": {},
   "outputs": [
    {
     "name": "stdout",
     "output_type": "stream",
     "text": [
      "enter a year :2091\n",
      "2091 is NOT a leap year\n"
     ]
    }
   ],
   "source": [
    "year = int(input(\"enter a year :\"))\n",
    "\n",
    "if year % 4 == 0 and year % 100 != 0 :\n",
    "    print(\"{0} is a leap year\".format(year))\n",
    "    \n",
    "elif year % 100 == 0 and year % 400 == 0:\n",
    "    print(\"{0} is a leap year.\".format(year))\n",
    "\n",
    "else :\n",
    "    print(\"{0} is NOT a leap year\".format(year))    \n"
   ]
  },
  {
   "cell_type": "code",
   "execution_count": null,
   "id": "35cb9cd4",
   "metadata": {},
   "outputs": [],
   "source": []
  }
 ],
 "metadata": {
  "kernelspec": {
   "display_name": "Python 3 (ipykernel)",
   "language": "python",
   "name": "python3"
  },
  "language_info": {
   "codemirror_mode": {
    "name": "ipython",
    "version": 3
   },
   "file_extension": ".py",
   "mimetype": "text/x-python",
   "name": "python",
   "nbconvert_exporter": "python",
   "pygments_lexer": "ipython3",
   "version": "3.9.12"
  }
 },
 "nbformat": 4,
 "nbformat_minor": 5
}
